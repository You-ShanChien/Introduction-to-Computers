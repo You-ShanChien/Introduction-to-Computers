{
  "nbformat": 4,
  "nbformat_minor": 0,
  "metadata": {
    "colab": {
      "provenance": [],
      "authorship_tag": "ABX9TyPQb5cmOf37nBsXzAiia8ty",
      "include_colab_link": true
    },
    "kernelspec": {
      "name": "python3",
      "display_name": "Python 3"
    },
    "language_info": {
      "name": "python"
    }
  },
  "cells": [
    {
      "cell_type": "markdown",
      "metadata": {
        "id": "view-in-github",
        "colab_type": "text"
      },
      "source": [
        "<a href=\"https://colab.research.google.com/github/You-ShanChien/Introduction-to-Computers/blob/main/0515%E5%AF%A6.ipynb\" target=\"_parent\"><img src=\"https://colab.research.google.com/assets/colab-badge.svg\" alt=\"Open In Colab\"/></a>"
      ]
    },
    {
      "cell_type": "code",
      "execution_count": 1,
      "metadata": {
        "colab": {
          "base_uri": "https://localhost:8080/"
        },
        "id": "f6glFTavH-ae",
        "outputId": "d125a56f-22ab-4bc4-e574-9d00eda9833d"
      },
      "outputs": [
        {
          "output_type": "stream",
          "name": "stdout",
          "text": [
            "1,3,5,7,9,"
          ]
        }
      ],
      "source": [
        "for i in range(1,10,2):\n",
        "  print(i,end=\",\")"
      ]
    },
    {
      "cell_type": "code",
      "source": [
        "n = int(input())\n",
        "total = 0\n",
        "for i in range(1, n+1):\n",
        "  total += i\n",
        "print(\"1到({}的總和為{}\".format(n,total))"
      ],
      "metadata": {
        "colab": {
          "base_uri": "https://localhost:8080/"
        },
        "id": "0trOXhrmIeAn",
        "outputId": "fa0cee76-80e1-4633-a7fd-e4ab2173ea3d"
      },
      "execution_count": 6,
      "outputs": [
        {
          "output_type": "stream",
          "name": "stdout",
          "text": [
            "100\n",
            "1到(100的總和為5050\n"
          ]
        }
      ]
    },
    {
      "cell_type": "code",
      "source": [
        "n = int(input())\n",
        "total = 0\n",
        "for i in range(1, n+1):\n",
        "  if i % 2 != 0:\n",
        "    total += i\n",
        "print(\"從1到{}的所有奇數的總和為 {}\".format(n, total))"
      ],
      "metadata": {
        "colab": {
          "base_uri": "https://localhost:8080/"
        },
        "id": "xmtLQTaiJ5QP",
        "outputId": "930d9334-a734-42b0-ea79-b132df3d45c3"
      },
      "execution_count": 8,
      "outputs": [
        {
          "output_type": "stream",
          "name": "stdout",
          "text": [
            "10\n",
            "從1到10的所有奇數的總和為 25\n"
          ]
        }
      ]
    },
    {
      "cell_type": "code",
      "source": [
        "for i in range(9):\n",
        "    print(\"Happy\")"
      ],
      "metadata": {
        "colab": {
          "base_uri": "https://localhost:8080/"
        },
        "id": "LickqFXyLc3j",
        "outputId": "34e19b56-ca0a-4a03-8daa-c8970215eee2"
      },
      "execution_count": 10,
      "outputs": [
        {
          "output_type": "stream",
          "name": "stdout",
          "text": [
            "Happy\n",
            "Happy\n",
            "Happy\n",
            "Happy\n",
            "Happy\n",
            "Happy\n",
            "Happy\n",
            "Happy\n",
            "Happy\n"
          ]
        }
      ]
    },
    {
      "cell_type": "code",
      "source": [],
      "metadata": {
        "id": "voclv8iEMzv0"
      },
      "execution_count": null,
      "outputs": []
    }
  ]
}