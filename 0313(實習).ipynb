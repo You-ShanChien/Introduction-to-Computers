{
  "nbformat": 4,
  "nbformat_minor": 0,
  "metadata": {
    "colab": {
      "provenance": [],
      "authorship_tag": "ABX9TyPeuSAsa0LY3xtIkRZeQdO8",
      "include_colab_link": true
    },
    "kernelspec": {
      "name": "python3",
      "display_name": "Python 3"
    },
    "language_info": {
      "name": "python"
    }
  },
  "cells": [
    {
      "cell_type": "markdown",
      "metadata": {
        "id": "view-in-github",
        "colab_type": "text"
      },
      "source": [
        "<a href=\"https://colab.research.google.com/github/You-ShanChien/Introduction-to-Computers/blob/main/0313(%E5%AF%A6%E7%BF%92).ipynb\" target=\"_parent\"><img src=\"https://colab.research.google.com/assets/colab-badge.svg\" alt=\"Open In Colab\"/></a>"
      ]
    },
    {
      "cell_type": "code",
      "execution_count": 1,
      "metadata": {
        "colab": {
          "base_uri": "https://localhost:8080/"
        },
        "id": "ED1PhXuwqsBc",
        "outputId": "5a805f48-035f-4fa9-8d12-910a4ad34abc"
      },
      "outputs": [
        {
          "output_type": "stream",
          "name": "stdout",
          "text": [
            "<class 'int'>\n"
          ]
        }
      ],
      "source": [
        "X=1\n",
        "print(type(X))"
      ]
    },
    {
      "cell_type": "code",
      "source": [
        "B=1.5\n",
        "print(type(B))"
      ],
      "metadata": {
        "colab": {
          "base_uri": "https://localhost:8080/"
        },
        "id": "31nRUJaFre9b",
        "outputId": "9c0719ba-8d96-4582-e825-e9b624acc464"
      },
      "execution_count": 2,
      "outputs": [
        {
          "output_type": "stream",
          "name": "stdout",
          "text": [
            "<class 'float'>\n"
          ]
        }
      ]
    },
    {
      "cell_type": "code",
      "source": [
        "a=True\n",
        "print(type(a))"
      ],
      "metadata": {
        "colab": {
          "base_uri": "https://localhost:8080/"
        },
        "id": "8WI5VD6zsE7j",
        "outputId": "44157857-0f23-4b4b-f52d-b74bda790466"
      },
      "execution_count": 3,
      "outputs": [
        {
          "output_type": "stream",
          "name": "stdout",
          "text": [
            "<class 'bool'>\n"
          ]
        }
      ]
    },
    {
      "cell_type": "code",
      "source": [
        "s=\"Hello, Goodbye\"\n",
        "print(s)\n",
        "print(type(s))"
      ],
      "metadata": {
        "colab": {
          "base_uri": "https://localhost:8080/"
        },
        "id": "UFnCITFgscU7",
        "outputId": "6755bf37-10a7-4678-ecda-d9ecb3827d0c"
      },
      "execution_count": 4,
      "outputs": [
        {
          "output_type": "stream",
          "name": "stdout",
          "text": [
            "Hello, Goodbye\n",
            "<class 'str'>\n"
          ]
        }
      ]
    },
    {
      "cell_type": "code",
      "source": [
        "str1=\"412570151\"\n",
        "str2=\"簡佑珊\"\n",
        "print(str1+str2)"
      ],
      "metadata": {
        "colab": {
          "base_uri": "https://localhost:8080/"
        },
        "id": "PiZHHJ3Cs0VT",
        "outputId": "57611c27-97f3-46c7-dffe-5ce83a8ebd6e"
      },
      "execution_count": 5,
      "outputs": [
        {
          "output_type": "stream",
          "name": "stdout",
          "text": [
            "412570151簡佑珊\n"
          ]
        }
      ]
    },
    {
      "cell_type": "code",
      "source": [
        "str3=\"412570151\"\n",
        "print(str3*3)"
      ],
      "metadata": {
        "colab": {
          "base_uri": "https://localhost:8080/"
        },
        "id": "_OXZJM3atLbD",
        "outputId": "3817b42e-14a7-4bf6-a65b-22129b48777a"
      },
      "execution_count": 6,
      "outputs": [
        {
          "output_type": "stream",
          "name": "stdout",
          "text": [
            "412570151412570151412570151\n"
          ]
        }
      ]
    },
    {
      "cell_type": "code",
      "source": [
        "str4=\"412570151\"\n",
        "print(len(str4))"
      ],
      "metadata": {
        "colab": {
          "base_uri": "https://localhost:8080/"
        },
        "id": "Q0l58jW3tpir",
        "outputId": "dcd19b2d-e76b-45da-a3b7-5e45dac12524"
      },
      "execution_count": 7,
      "outputs": [
        {
          "output_type": "stream",
          "name": "stdout",
          "text": [
            "9\n"
          ]
        }
      ]
    },
    {
      "cell_type": "code",
      "source": [
        "str5=\"簡佑珊\"\n",
        "str5[0]"
      ],
      "metadata": {
        "colab": {
          "base_uri": "https://localhost:8080/",
          "height": 35
        },
        "id": "KnymRDLmt4PL",
        "outputId": "473319dd-2404-4dca-8a5c-0e8bebee91f6"
      },
      "execution_count": 8,
      "outputs": [
        {
          "output_type": "execute_result",
          "data": {
            "text/plain": [
              "'簡'"
            ],
            "application/vnd.google.colaboratory.intrinsic+json": {
              "type": "string"
            }
          },
          "metadata": {},
          "execution_count": 8
        }
      ]
    },
    {
      "cell_type": "code",
      "source": [
        "str1=\"簡佑珊\"\n",
        "print(str1)"
      ],
      "metadata": {
        "colab": {
          "base_uri": "https://localhost:8080/"
        },
        "id": "9kwu21Q7uxPT",
        "outputId": "8b785c10-cc01-4c83-c25c-6a48641a33e6"
      },
      "execution_count": 11,
      "outputs": [
        {
          "output_type": "stream",
          "name": "stdout",
          "text": [
            "簡佑珊\n"
          ]
        }
      ]
    },
    {
      "cell_type": "code",
      "source": [
        "print(str1*20)"
      ],
      "metadata": {
        "colab": {
          "base_uri": "https://localhost:8080/"
        },
        "id": "5sn45g5Pu7q0",
        "outputId": "ec5a9457-aba8-4b66-e682-c3cca6bcdfa9"
      },
      "execution_count": 13,
      "outputs": [
        {
          "output_type": "stream",
          "name": "stdout",
          "text": [
            "簡佑珊簡佑珊簡佑珊簡佑珊簡佑珊簡佑珊簡佑珊簡佑珊簡佑珊簡佑珊簡佑珊簡佑珊簡佑珊簡佑珊簡佑珊簡佑珊簡佑珊簡佑珊簡佑珊簡佑珊\n"
          ]
        }
      ]
    },
    {
      "cell_type": "code",
      "source": [
        "print(len(str1*20))"
      ],
      "metadata": {
        "colab": {
          "base_uri": "https://localhost:8080/"
        },
        "id": "QxIrgGEnvOrr",
        "outputId": "6bcfffe8-ea05-472b-da06-4198ed30aa62"
      },
      "execution_count": 15,
      "outputs": [
        {
          "output_type": "stream",
          "name": "stdout",
          "text": [
            "60\n"
          ]
        }
      ]
    },
    {
      "cell_type": "code",
      "source": [],
      "metadata": {
        "id": "F7R3z9LTvc2s"
      },
      "execution_count": null,
      "outputs": []
    }
  ]
}