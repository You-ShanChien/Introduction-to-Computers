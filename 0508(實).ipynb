{
  "nbformat": 4,
  "nbformat_minor": 0,
  "metadata": {
    "colab": {
      "provenance": [],
      "authorship_tag": "ABX9TyPiXoWZJEbWP3Vwh7Wg68xm",
      "include_colab_link": true
    },
    "kernelspec": {
      "name": "python3",
      "display_name": "Python 3"
    },
    "language_info": {
      "name": "python"
    }
  },
  "cells": [
    {
      "cell_type": "markdown",
      "metadata": {
        "id": "view-in-github",
        "colab_type": "text"
      },
      "source": [
        "<a href=\"https://colab.research.google.com/github/You-ShanChien/Introduction-to-Computers/blob/main/0508(%E5%AF%A6).ipynb\" target=\"_parent\"><img src=\"https://colab.research.google.com/assets/colab-badge.svg\" alt=\"Open In Colab\"/></a>"
      ]
    },
    {
      "cell_type": "code",
      "execution_count": 3,
      "metadata": {
        "colab": {
          "base_uri": "https://localhost:8080/"
        },
        "id": "ZoqWK2bYFtW-",
        "outputId": "f2609041-e3e9-475c-eb45-94047a441bdd"
      },
      "outputs": [
        {
          "output_type": "stream",
          "name": "stdout",
          "text": [
            "你年齡太小\n",
            "需年滿20歲才可以購買菸酒\n"
          ]
        }
      ],
      "source": [
        "age = 18\n",
        "if age < 20:\n",
        "    print(\"你年齡太小\")\n",
        "    print(\"需年滿20歲才可以購買菸酒\")"
      ]
    },
    {
      "cell_type": "code",
      "source": [
        "age = 18\n",
        "if(age<20):\n",
        "print(\"你年齡太小\")\n",
        "    print(\"需年滿20歲才可以購買菸酒\")"
      ],
      "metadata": {
        "colab": {
          "base_uri": "https://localhost:8080/",
          "height": 106
        },
        "id": "oC8snTCZHMfJ",
        "outputId": "cd2a056b-9a8a-4309-b05a-2616c3119dc2"
      },
      "execution_count": 4,
      "outputs": [
        {
          "output_type": "error",
          "ename": "IndentationError",
          "evalue": "expected an indented block after 'if' statement on line 2 (<ipython-input-4-cc6734706384>, line 3)",
          "traceback": [
            "\u001b[0;36m  File \u001b[0;32m\"<ipython-input-4-cc6734706384>\"\u001b[0;36m, line \u001b[0;32m3\u001b[0m\n\u001b[0;31m    print(\"你年齡太小\")\u001b[0m\n\u001b[0m    ^\u001b[0m\n\u001b[0;31mIndentationError\u001b[0m\u001b[0;31m:\u001b[0m expected an indented block after 'if' statement on line 2\n"
          ]
        }
      ]
    },
    {
      "cell_type": "code",
      "source": [
        "age = input(\"請輸入年齡\")\n",
        "if(int(age)<20):\n",
        "  print(\"你年齡太小\")\n",
        "  print(\"需年滿20歲才可以購買菸酒\")\n",
        "else:\n",
        "  print(\"歡銀購買菸酒\")"
      ],
      "metadata": {
        "colab": {
          "base_uri": "https://localhost:8080/"
        },
        "id": "MtYuSI8WHwVR",
        "outputId": "595890d4-5e58-4095-9b3a-2802fcece75f"
      },
      "execution_count": 6,
      "outputs": [
        {
          "output_type": "stream",
          "name": "stdout",
          "text": [
            "請輸入年齡18\n",
            "你年齡太小\n",
            "需年滿20歲才可以購買菸酒\n"
          ]
        }
      ]
    },
    {
      "cell_type": "code",
      "source": [
        "age = input(\"請輸入年齡\")\n",
        "if(int(age)<20):\n",
        "  print(\"你年齡太小\")\n",
        "  print(\"需年滿20歲才可以購買菸酒\")\n",
        "else:\n",
        "  print(\"歡銀購買菸酒\")"
      ],
      "metadata": {
        "colab": {
          "base_uri": "https://localhost:8080/"
        },
        "id": "AIwIH_sUItgq",
        "outputId": "ff0b72bd-bf4a-4583-ad40-0d1c7a7f9355"
      },
      "execution_count": 7,
      "outputs": [
        {
          "output_type": "stream",
          "name": "stdout",
          "text": [
            "請輸入年齡23\n",
            "歡銀購買菸酒\n"
          ]
        }
      ]
    },
    {
      "cell_type": "code",
      "source": [
        "print(\"計算最終成績\")\n",
        "score = input(\"請輸入分數\")\n",
        "sc = int(score)\n",
        "if(sc>=90):\n",
        "  print(\"A\")\n",
        "elif(sc>=80):\n",
        "  print(\"B\")\n",
        "elif(sc>=70):\n",
        "  print(\"C\")\n",
        "elif(sc>=60):\n",
        "  print(\"D\")\n",
        "else:\n",
        "  print(\"F\")"
      ],
      "metadata": {
        "colab": {
          "base_uri": "https://localhost:8080/"
        },
        "id": "-jUxygRPIyHa",
        "outputId": "9bcc331b-2816-4b73-f3cb-33190e10fbf0"
      },
      "execution_count": 8,
      "outputs": [
        {
          "output_type": "stream",
          "name": "stdout",
          "text": [
            "計算最終成績\n",
            "請輸入分數90\n",
            "A\n"
          ]
        }
      ]
    },
    {
      "cell_type": "code",
      "source": [
        "print(\"判斷輸入年份是否閏年\")\n",
        "year = int(input(\"請輸入年份:\"))\n",
        "rem4 = year % 4\n",
        "rem100 = year % 100\n",
        "rem400 = year % 400\n",
        "if rem4 == 0:\n",
        "  if rem100 != 0 or rem400 == 0:\n",
        "    print(\"是閏年:\", year)\n",
        "  else:\n",
        "    print(\"是平年:\", year)\n",
        "else:\n",
        "    print(\"是平年:\", year)"
      ],
      "metadata": {
        "colab": {
          "base_uri": "https://localhost:8080/"
        },
        "id": "8HnOWbnaKBjS",
        "outputId": "7791b963-c48d-4d9b-b266-19fb2c4acedf"
      },
      "execution_count": 11,
      "outputs": [
        {
          "output_type": "stream",
          "name": "stdout",
          "text": [
            "判斷輸入年份是否閏年\n",
            "請輸入年份:2020\n",
            "是閏年: 2020\n"
          ]
        }
      ]
    },
    {
      "cell_type": "code",
      "source": [
        "print(\"判斷輸入數字是否為奇數\")\n",
        "數字 = int(input(\"請輸入數字:\"))\n",
        "rem4 = 數字 % 4\n",
        "rem100 = 數字 % 100\n",
        "rem400 = 數字 % 400\n",
        "if rem4 == 0:\n",
        "  if rem100 != 0 or rem400 == 0:\n",
        "    print(\"是偶數:\", 數字)\n",
        "  else:\n",
        "    print(\"是奇數:\", 數字)\n",
        "else:\n",
        "    print(\"是奇數:\", 數字)"
      ],
      "metadata": {
        "colab": {
          "base_uri": "https://localhost:8080/"
        },
        "id": "OmhjGqwLMRMx",
        "outputId": "e29776cb-9e79-4897-cd8e-b3ae506b09d5"
      },
      "execution_count": 16,
      "outputs": [
        {
          "output_type": "stream",
          "name": "stdout",
          "text": [
            "判斷輸入數字是否為奇數\n",
            "請輸入數字:51\n",
            "是奇數: 51\n"
          ]
        }
      ]
    },
    {
      "cell_type": "code",
      "source": [
        "a = int(input())\n",
        "if(a >= 0):\n",
        "  if a % 2 == 0:\n",
        "    print(\"{} is even\".format(a))\n",
        "  else:\n",
        "    print(\"{} is odd\".format(a))\n",
        "else:\n",
        "  print(\"Input Error\")"
      ],
      "metadata": {
        "colab": {
          "base_uri": "https://localhost:8080/"
        },
        "id": "8l9Ck5ZZNSZ7",
        "outputId": "a5d83c7a-4bf9-4bd7-89d8-52ccdc94c6f4"
      },
      "execution_count": 22,
      "outputs": [
        {
          "output_type": "stream",
          "name": "stdout",
          "text": [
            "51\n",
            "51 is odd\n"
          ]
        }
      ]
    },
    {
      "cell_type": "code",
      "source": [],
      "metadata": {
        "id": "WvJfgHz-Orfp"
      },
      "execution_count": null,
      "outputs": []
    }
  ]
}