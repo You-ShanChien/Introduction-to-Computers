{
  "nbformat": 4,
  "nbformat_minor": 0,
  "metadata": {
    "colab": {
      "provenance": [],
      "authorship_tag": "ABX9TyObEDo3h+YFtSH0ORkeGc7V",
      "include_colab_link": true
    },
    "kernelspec": {
      "name": "python3",
      "display_name": "Python 3"
    },
    "language_info": {
      "name": "python"
    }
  },
  "cells": [
    {
      "cell_type": "markdown",
      "metadata": {
        "id": "view-in-github",
        "colab_type": "text"
      },
      "source": [
        "<a href=\"https://colab.research.google.com/github/You-ShanChien/Introduction-to-Computers/blob/main/0522%E5%AF%A6%E7%BF%92.ipynb\" target=\"_parent\"><img src=\"https://colab.research.google.com/assets/colab-badge.svg\" alt=\"Open In Colab\"/></a>"
      ]
    },
    {
      "cell_type": "code",
      "execution_count": 1,
      "metadata": {
        "colab": {
          "base_uri": "https://localhost:8080/"
        },
        "id": "P73xv6XcKLjs",
        "outputId": "e24f347b-2bf9-4c40-a459-ae00715cc5b6"
      },
      "outputs": [
        {
          "output_type": "stream",
          "name": "stdout",
          "text": [
            "happy\n",
            "happy\n",
            "happy\n",
            "happy\n",
            "happy\n",
            "happy\n",
            "happy\n",
            "happy\n",
            "happy\n"
          ]
        }
      ],
      "source": [
        "for i in range(9):\n",
        "  print(\"happy\")"
      ]
    },
    {
      "cell_type": "code",
      "source": [
        "count = 0\n",
        "while count <9:\n",
        "  print(\"happy\")\n",
        "  count += 1"
      ],
      "metadata": {
        "colab": {
          "base_uri": "https://localhost:8080/"
        },
        "id": "vA46R867KdVV",
        "outputId": "aff86724-8944-4080-880d-3c33aa972b67"
      },
      "execution_count": 4,
      "outputs": [
        {
          "output_type": "stream",
          "name": "stdout",
          "text": [
            "happy\n",
            "happy\n",
            "happy\n",
            "happy\n",
            "happy\n",
            "happy\n",
            "happy\n",
            "happy\n",
            "happy\n"
          ]
        }
      ]
    },
    {
      "cell_type": "code",
      "source": [
        "secret_number = 21\n",
        "print(\"猜猜看我心裡想的是哪個數字!\")\n",
        "while int (input(\"請輸入一個數字:\")) != secret_number:\n",
        "  print (\"猜錯了，再試一次!\")\n",
        "print(\"恭喜你，猜對了!\")"
      ],
      "metadata": {
        "colab": {
          "base_uri": "https://localhost:8080/"
        },
        "id": "oVO9-DhFK6FN",
        "outputId": "e324b359-b86c-401c-a362-558c4b3bdd3f"
      },
      "execution_count": 3,
      "outputs": [
        {
          "output_type": "stream",
          "name": "stdout",
          "text": [
            "猜猜看我心裡想的是哪個數字!\n",
            "請輸入一個數字:6\n",
            "猜錯了，再試一次!\n",
            "請輸入一個數字:21\n",
            "恭喜你，猜對了!\n"
          ]
        }
      ]
    },
    {
      "cell_type": "code",
      "source": [
        "for j in range(5):\n",
        "  if j == 3:break\n",
        "  print(j)\n",
        "print('Bye!!')"
      ],
      "metadata": {
        "colab": {
          "base_uri": "https://localhost:8080/"
        },
        "id": "JxBUdCwJMf5o",
        "outputId": "78afdd9a-b54b-4311-c1a0-fb13f3c07af1"
      },
      "execution_count": 5,
      "outputs": [
        {
          "output_type": "stream",
          "name": "stdout",
          "text": [
            "0\n",
            "1\n",
            "2\n",
            "Bye!!\n"
          ]
        }
      ]
    },
    {
      "cell_type": "code",
      "source": [],
      "metadata": {
        "id": "pT9tQjZCNjww"
      },
      "execution_count": null,
      "outputs": []
    }
  ]
}