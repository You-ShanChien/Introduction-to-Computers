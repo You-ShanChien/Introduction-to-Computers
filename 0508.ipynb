{
  "nbformat": 4,
  "nbformat_minor": 0,
  "metadata": {
    "colab": {
      "provenance": [],
      "authorship_tag": "ABX9TyPMdnRvInLngWF3MSrxH0Bg",
      "include_colab_link": true
    },
    "kernelspec": {
      "name": "python3",
      "display_name": "Python 3"
    },
    "language_info": {
      "name": "python"
    }
  },
  "cells": [
    {
      "cell_type": "markdown",
      "metadata": {
        "id": "view-in-github",
        "colab_type": "text"
      },
      "source": [
        "<a href=\"https://colab.research.google.com/github/You-ShanChien/Introduction-to-Computers/blob/main/0508.ipynb\" target=\"_parent\"><img src=\"https://colab.research.google.com/assets/colab-badge.svg\" alt=\"Open In Colab\"/></a>"
      ]
    },
    {
      "cell_type": "code",
      "execution_count": 9,
      "metadata": {
        "colab": {
          "base_uri": "https://localhost:8080/"
        },
        "id": "2O_Rnm9xdHmy",
        "outputId": "e262b374-39ea-4a2a-a3d0-c025ef4a9030"
      },
      "outputs": [
        {
          "output_type": "stream",
          "name": "stdout",
          "text": [
            "請輸入你的體溫36.6\n",
            "體溫正常!\n"
          ]
        }
      ],
      "source": [
        "temperature = float(input(\"請輸入你的體溫\"))\n",
        "if temperature >= 37.5:\n",
        "  print(\"體溫過高!\")\n",
        "elif 37 <= temperature <= 37.4:\n",
        "  print(\"體溫略高!\")\n",
        "elif 34 <= temperature <= 36.9:\n",
        "  print(\"體溫正常!\")\n",
        "else:\n",
        "  print(\"體溫異常，請重新量測!\")"
      ]
    },
    {
      "cell_type": "code",
      "source": [
        "score = int(input(\"請輸入成績\"))\n",
        "if(score >= 90):\n",
        "  print(\"A\")\n",
        "elif(80 <= score <= 89):\n",
        "  print(\"B\")\n",
        "elif(70 <= score <= 79):\n",
        "  print(\"C\")\n",
        "elif(60 <= score <= 69):\n",
        "  print(\"D\")\n",
        "else:\n",
        "  print(\"E\")"
      ],
      "metadata": {
        "id": "9_sYWm7UdXXv",
        "colab": {
          "base_uri": "https://localhost:8080/"
        },
        "outputId": "a6a0df26-2a37-43b3-9fe3-5e08190fbd90"
      },
      "execution_count": 11,
      "outputs": [
        {
          "output_type": "stream",
          "name": "stdout",
          "text": [
            "請輸入成績77\n",
            "C\n"
          ]
        }
      ]
    },
    {
      "cell_type": "code",
      "source": [
        "month = int(input(\"請輸入月份\"))\n",
        "if month in[3,4,5]:\n",
        "  print(\"春天!\")\n",
        "elif month in[6,7,8]:\n",
        "  print(\"夏天!\")\n",
        "elif month in[9,10,11]:\n",
        "  print(\"秋天!\")\n",
        "elif month in[12,1,2]:\n",
        "  print(\"冬天!\")\n",
        "else:\n",
        "  print(\"月份不再範圍內!\")"
      ],
      "metadata": {
        "colab": {
          "base_uri": "https://localhost:8080/"
        },
        "id": "nUjKLfjItboH",
        "outputId": "94ae333a-a513-4a99-9ce6-27eb559219b6"
      },
      "execution_count": 12,
      "outputs": [
        {
          "output_type": "stream",
          "name": "stdout",
          "text": [
            "請輸入月份13\n",
            "月份不再範圍內!\n"
          ]
        }
      ]
    },
    {
      "cell_type": "code",
      "source": [],
      "metadata": {
        "id": "tiwzrZWGvFFv"
      },
      "execution_count": null,
      "outputs": []
    }
  ]
}